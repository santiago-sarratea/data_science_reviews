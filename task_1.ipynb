{
 "cells": [
  {
   "cell_type": "code",
   "execution_count": null,
   "id": "51cf97ba",
   "metadata": {},
   "outputs": [],
   "source": [
    "import pandas as pd\n",
    "import numpy as np\n",
    "import matplotlib.pyplot as plt\n",
    "import seaborn as sns\n",
    "from statsmodels.stats.proportion import proportion_confint\n",
    "plt.rcParams[\"figure.figsize\"] = (10,5)"
   ]
  },
  {
   "cell_type": "markdown",
   "id": "35f2c478",
   "metadata": {},
   "source": [
    "# Task one: is there any difference between overall scores?\n",
    "Our goal is to assert any differences in overall scores between reviews. For that purpose, we are going to test whether the **mean score** of the incentivized reviews differs from that of the organic ones in a statistically meaningful way. We thus begin by loading our reviews dataset"
   ]
  },
  {
   "cell_type": "code",
   "execution_count": 36,
   "id": "85281071",
   "metadata": {},
   "outputs": [
    {
     "data": {
      "text/plain": [
       "Index(['labels', 'question1', 'question2', 'question3', 'question4', 'star'], dtype='object')"
      ]
     },
     "execution_count": 36,
     "metadata": {},
     "output_type": "execute_result"
    }
   ],
   "source": [
    "data = pd.read_excel('./formatted_review_Asana.xlsx', index_col = 0) # if you get an XLRDError when loading the data use engine='openpyxl' as a kwarg\n",
    "data.columns"
   ]
  },
  {
   "cell_type": "markdown",
   "id": "2d7c94c8-fb4f-48e2-bb38-83b397f06df1",
   "metadata": {},
   "source": [
    "In our dataset, the scores are stored in the 'star' column. The columns 'question1' to 'question4' include the text of the reviews, which is going to be used in task 2. The 'label' column contains information about the nature of the reviews. "
   ]
  },
  {
   "cell_type": "markdown",
   "id": "9a4196db-2277-4404-9d69-de2b2f093db7",
   "metadata": {},
   "source": [
    "There are different types, as can be seen in the cell below. However, we are going to count as organic any review with the label 'Review source: Organic' label; everything else constitutes an incentivized review."
   ]
  },
  {
   "cell_type": "code",
   "execution_count": 4,
   "id": "a1e60372",
   "metadata": {},
   "outputs": [
    {
     "data": {
      "text/plain": [
       "Review source: G2 invite                        1075\n",
       "Incentivized Review                              762\n",
       "Review source: Organic                           124\n",
       "Review source: G2 invite on behalf of seller     103\n",
       "Review source: Seller invite                      73\n",
       "Review source: G2 Gives Campaign                  13\n",
       "Name: labels, dtype: int64"
      ]
     },
     "execution_count": 4,
     "metadata": {},
     "output_type": "execute_result"
    }
   ],
   "source": [
    "data['labels'].value_counts()"
   ]
  },
  {
   "cell_type": "markdown",
   "id": "61bc15c7",
   "metadata": {},
   "source": [
    "We are going to add a new column containing a one if the review is organic, and a zero if it is not:"
   ]
  },
  {
   "cell_type": "code",
   "execution_count": 5,
   "id": "e7830fb1",
   "metadata": {},
   "outputs": [],
   "source": [
    "data['label'] = 0\n",
    "org = (data['labels'] == 'Review source: Organic')\n",
    "data.loc[org, 'label'] = 1\n",
    "data.loc[~org,'label'] = 0"
   ]
  },
  {
   "cell_type": "markdown",
   "id": "11754339-af08-4554-8d99-c1f5a012d8e7",
   "metadata": {},
   "source": [
    "In total there are 124 samples of our A group, which is going to be the organic reviews, and 2026 samples of our B group of incentivized ones."
   ]
  },
  {
   "cell_type": "code",
   "execution_count": 6,
   "id": "9411d894",
   "metadata": {},
   "outputs": [
    {
     "data": {
      "text/plain": [
       "0    2026\n",
       "1     124\n",
       "Name: label, dtype: int64"
      ]
     },
     "execution_count": 6,
     "metadata": {},
     "output_type": "execute_result"
    }
   ],
   "source": [
    "data['label'].value_counts()"
   ]
  },
  {
   "cell_type": "code",
   "execution_count": 7,
   "id": "deb23636-f723-4002-87bb-7abbc08f34c6",
   "metadata": {},
   "outputs": [],
   "source": [
    "#split the dataset\n",
    "incentivized = data.loc[~org,:]\n",
    "organic = data.loc[org,:]"
   ]
  },
  {
   "cell_type": "markdown",
   "id": "1631b693",
   "metadata": {},
   "source": [
    "The scores are distributed as follows:"
   ]
  },
  {
   "cell_type": "code",
   "execution_count": 29,
   "id": "05de5901",
   "metadata": {},
   "outputs": [
    {
     "data": {
      "image/png": "[encoded data removed]",
      "text/plain": [
       "<Figure size 720x360 with 1 Axes>"
      ]
     },
     "metadata": {
      "needs_background": "light"
     },
     "output_type": "display_data"
    }
   ],
   "source": [
    "sns.histplot(data=organic, x=\"star\", stat=\"density\", discrete=True)\n",
    "plt.title(\n",
    "    f'A group - Organic reviews. Mean score = {round(organic[\"star\"].mean(),2)}, std = {round(organic[\"star\"].std(),2)}'\n",
    ")\n",
    "plt.xlabel(\"Score (in stars)\")\n",
    "plt.show()\n"
   ]
  },
  {
   "cell_type": "code",
   "execution_count": 30,
   "id": "5a4a1a49",
   "metadata": {},
   "outputs": [
    {
     "data": {
      "image/png": "[encoded data removed]",
      "text/plain": [
       "<Figure size 720x360 with 1 Axes>"
      ]
     },
     "metadata": {
      "needs_background": "light"
     },
     "output_type": "display_data"
    }
   ],
   "source": [
    "sns.histplot(data=data.loc[~org, :], x=\"star\", stat=\"density\", discrete=True)\n",
    "plt.title(\n",
    "    f'B group - Incentivized reviews. Mean score = {round(incentivized[\"star\"].mean(),2)}, std = {round(incentivized[\"star\"].std(),2)}'\n",
    ")\n",
    "plt.xlabel(\"Score (in stars)\")\n",
    "plt.show()"
   ]
  },
  {
   "cell_type": "markdown",
   "id": "eeb5ea41-8908-4404-a07c-716722e0d796",
   "metadata": {},
   "source": [
    "# Statistical test\n",
    "We are going to perform a non-parametric permutation test, with the goal of asserting whether or not there is any significant difference between the mean score of the two groups. \n",
    "\n",
    "Formally speaking we will apply a Monte Carlo permutation test since it is not feasible to perform all possible permutations and calculate the exact p-value. With the Monte Carlo test we can find the p-value as $\\frac{r+1}{N+1}$ where $N$ is the number of replicate samples that have been simulated and $r$ is the number of these replicates that produce a test statistic greater than or equal to that calculated for the real data. The addition of the value 1 in the numerator and denominator comes from imposing that the estimated p is unbiased. \n",
    "\n",
    "Under the null hypothesis, each resample has a probability of getting a test statistic at least as extreme as the one for the original sample that is equal to the permutation test p-value.\n",
    "\n",
    "Consequently, out of N resampling simulations, the number of resamples with a test statistic at least as extreme as the one in the original sample has a binomial distribution with parameters N and p-value.  As a result, we can form a confidence interval for the p-value using standard methods for a binomial proportion confidence interval. Particulary we use Wilson score interval.\n",
    "\n",
    "In relation to this, we are assuming in the null hypothesis that there is exchangeability in the data, and because of this we assume that all the data belong to the same population and that the fact of resampling them does not generate anything more than a random variation of the same data, but not a new distribution.\n",
    "\n",
    "Thus, set our null hypothesis $H_0$ to be that the mean scores of the two groups are equal because all of data belongs to the same population, and our alternate hypothesis $H_1$ to be that the mean scores are different. The statistic used in the permutation test is the difference of the sample means."
   ]
  },
  {
   "cell_type": "markdown",
   "id": "47c5a0a4",
   "metadata": {},
   "source": [
    "Below is the function performing the permutation Monte Carlo test:"
   ]
  },
  {
   "cell_type": "code",
   "execution_count": 10,
   "id": "94d02124",
   "metadata": {},
   "outputs": [],
   "source": [
    "def permutation(group1, group2, niters=10000, random_state=None, dist= False):\n",
    "    '''Pre: group 1 and group 2 are arrays that represents the samples,\n",
    "            niters is the amount of iterations in the permutation algorithm and\n",
    "            random_state fix the seed of the generator of random numbers.\n",
    "       Post: If dist= True, returns a tuple with the array of values with the t-statistic, \n",
    "             the p-value, and de confidence interval for p-value;\n",
    "             if dist= False returns  p-value, and the confidence interval for p-value.\n",
    "    '''\n",
    "    np.random.seed()\n",
    "    omd = np.mean(group1) - np.mean(group2)\n",
    "    g1_n = len(group1)\n",
    "    fake_mds = np.zeros(niters)\n",
    "    pooled = np.concatenate([group1, group2])\n",
    "    for i in np.arange(niters):\n",
    "        shuffled = np.random.permutation(pooled)\n",
    "        fake_mds[i] = np.mean(shuffled[:g1_n]) - np.mean(shuffled[g1_n:]) #statistic array\n",
    "    count= np.count_nonzero(np.abs(fake_mds) >= np.abs(omd))\n",
    "    p = ( count +1) / ( niters + 1) #p-value\n",
    "    ci_low, ci_upp = proportion_confint(count= count, nobs= niters, method=\"wilson\") #confidence interval\n",
    "    if dist==True:\n",
    "        return fake_mds, p, ci_low, ci_upp \n",
    "    return p, ci_low, ci_upp "
   ]
  },
  {
   "cell_type": "markdown",
   "id": "c593ba7b-72a1-4377-bc5d-203e62627f6a",
   "metadata": {},
   "source": [
    "## Results interpretation\n",
    "We set the significance-level $\\alpha$ to $0.05$ as it is usually done in the literature. So if $p$-value $< \\alpha $ we reject the null hypthotesis $H_0$. "
   ]
  },
  {
   "cell_type": "code",
   "execution_count": 11,
   "id": "faad482e",
   "metadata": {},
   "outputs": [],
   "source": [
    "dist, p, c_l, c_h = permutation(data.loc[org,'star'], data.loc[~org,'star'], niters=1000000, dist=True)"
   ]
  },
  {
   "cell_type": "code",
   "execution_count": 12,
   "id": "a72d16ba",
   "metadata": {},
   "outputs": [
    {
     "name": "stdout",
     "output_type": "stream",
     "text": [
      "The estimated p-value is p=0.0348 with a 95% confidence interval (0.0345,0.0352)\n"
     ]
    }
   ],
   "source": [
    "print(f'The estimated p-value is p={p:.4f} with a 95% confidence interval ({c_l:.4f},{c_h:.4f})')"
   ]
  },
  {
   "cell_type": "markdown",
   "id": "3e3182bf",
   "metadata": {},
   "source": [
    "The obtained p-value for the test with 1000000 resamples is $p=0.0348$, meaning there is only a 3.5% chance of the review scores have the being equal by chance. What this implies is that we can claim with approximately 96% confidence that \n",
    "# <center>**The mean overall scores from both types of reviews are different and that difference can be attributed to the nature of the review (organic versus incentivized)**<center>"
   ]
  },
  {
   "cell_type": "markdown",
   "id": "f93870a2",
   "metadata": {},
   "source": [
    "Furthermore, we can plot a distribution of the difference of means for the two samples, in order to see how extreme the statistic obtained by the real data is."
   ]
  },
  {
   "cell_type": "code",
   "execution_count": 32,
   "id": "d12da3e8",
   "metadata": {},
   "outputs": [
    {
     "data": {
      "image/png": "[encoded data removed]",
      "text/plain": [
       "<Figure size 720x360 with 1 Axes>"
      ]
     },
     "metadata": {
      "needs_background": "light"
     },
     "output_type": "display_data"
    }
   ],
   "source": [
    "sns.histplot(data=dist, stat = 'probability', bins=300)\n",
    "plt.axvline(x = data.loc[~org, :]['star'].mean() - data.loc[org, :]['star'].mean() , color = 'red', label='Negative observed difference')\n",
    "plt.axvline(x = -data.loc[~org, :]['star'].mean() + data.loc[org, :]['star'].mean(), color = 'green', label='Observed difference')\n",
    "plt.title('Distribution of differences of means after 1000000 resamples')\n",
    "plt.xlabel('Sample mean difference')\n",
    "plt.legend()\n",
    "plt.show()"
   ]
  },
  {
   "cell_type": "markdown",
   "id": "94e22957",
   "metadata": {},
   "source": [
    "If we repeat the Monte Carlo simulation N times and for each of them we calculate the p-value, we can obtain a distribution of the p-values obtained. To plot the distribution of the p-values we use N=5000."
   ]
  },
  {
   "cell_type": "code",
   "execution_count": 17,
   "id": "b066c3d7",
   "metadata": {},
   "outputs": [
    {
     "name": "stderr",
     "output_type": "stream",
     "text": [
      "100%|██████████████████████████████████████████████████████████████████████████████| 5000/5000 [09:30<00:00,  8.77it/s]\n"
     ]
    }
   ],
   "source": [
    "from tqdm import tqdm\n",
    "n_iters = 5000\n",
    "p_values = np.zeros(n_iters)  # Store the p values\n",
    "for i in tqdm(np.arange(n_iters)):\n",
    "    # Use fewer iterations than usual to save computation time.\n",
    "    p = permutation(data.loc[org,'star'], data.loc[~org,'star'], niters=1000)[0]\n",
    "    # Store the p value from the permutation test.\n",
    "    p_values[i] = p"
   ]
  },
  {
   "cell_type": "code",
   "execution_count": 33,
   "id": "c97cfb9e",
   "metadata": {},
   "outputs": [
    {
     "data": {
      "image/png": "[encoded data removed]",
      "text/plain": [
       "<Figure size 720x360 with 1 Axes>"
      ]
     },
     "metadata": {
      "needs_background": "light"
     },
     "output_type": "display_data"
    }
   ],
   "source": [
    "sns.histplot(data=p_values, stat = 'probability', alpha=0.5)\n",
    "plt.title('Distribution of p-values with N=5000 Monte Carlo simulation')\n",
    "plt.xlabel('p-value')\n",
    "plt.show()"
   ]
  },
  {
   "cell_type": "code",
   "execution_count": 34,
   "id": "958f2ebe",
   "metadata": {},
   "outputs": [
    {
     "name": "stdout",
     "output_type": "stream",
     "text": [
      "Out of the 5000 p-values calculated, only 39 are above the 0.05 significance level\n"
     ]
    }
   ],
   "source": [
    "print(f'Out of the 5000 p-values calculated, only {np.sum(p_values>=0.05)} are above the 0.05 significance level')"
   ]
  }
 ],
 "metadata": {
  "kernelspec": {
   "display_name": "Python 3 (ipykernel)",
   "language": "python",
   "name": "python3"
  },
  "language_info": {
   "codemirror_mode": {
    "name": "ipython",
    "version": 3
   },
   "file_extension": ".py",
   "mimetype": "text/x-python",
   "name": "python",
   "nbconvert_exporter": "python",
   "pygments_lexer": "ipython3",
   "version": "3.9.7"
  }
 },
 "nbformat": 4,
 "nbformat_minor": 5
}
